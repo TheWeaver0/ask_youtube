{
 "cells": [
  {
   "cell_type": "code",
   "execution_count": 22,
   "id": "b2d49299",
   "metadata": {},
   "outputs": [],
   "source": [
    "from elasticsearch import Elasticsearch\n",
    "from openai import OpenAI\n",
    "import os\n",
    "from tqdm.auto import tqdm\n",
    "import json"
   ]
  },
  {
   "cell_type": "code",
   "execution_count": 23,
   "id": "422f9eaa",
   "metadata": {},
   "outputs": [],
   "source": [
    "import json\n",
    "\n",
    "with open(\"../data/llm_chunks.json\", \"r\", encoding=\"utf-8\") as f:\n",
    "    data = json.load(f)"
   ]
  },
  {
   "cell_type": "code",
   "execution_count": 24,
   "id": "29f4d53a",
   "metadata": {},
   "outputs": [
    {
     "name": "stdout",
     "output_type": "stream",
     "text": [
      "{'name': 'c20e8fdea842', 'cluster_name': 'docker-cluster', 'cluster_uuid': 'xrLBV0aGRwOwDq0941tjEg', 'version': {'number': '8.15.0', 'build_flavor': 'default', 'build_type': 'docker', 'build_hash': '1a77947f34deddb41af25e6f0ddb8e830159c179', 'build_date': '2024-08-05T10:05:34.233336849Z', 'build_snapshot': False, 'lucene_version': '9.11.1', 'minimum_wire_compatibility_version': '7.17.0', 'minimum_index_compatibility_version': '7.0.0'}, 'tagline': 'You Know, for Search'}\n",
      "True\n"
     ]
    }
   ],
   "source": [
    "es_client = Elasticsearch(\"http://localhost:9200\")\n",
    "\n",
    "print(es_client.info())   # should show cluster info\n",
    "print(es_client.ping())   # may still be False sometimes in 8.x\n"
   ]
  },
  {
   "cell_type": "code",
   "execution_count": 30,
   "id": "236d1a56",
   "metadata": {},
   "outputs": [
    {
     "name": "stdout",
     "output_type": "stream",
     "text": [
      "The index was deleted\n",
      "The index was created\n"
     ]
    }
   ],
   "source": [
    "index_settings = {\n",
    "    \"settings\":{\n",
    "        \"number_of_shards\": 1,\n",
    "        \"number_of_replicas\": 0\n",
    "    },\n",
    "    \"mappings\":{\n",
    "        \"properties\":{\n",
    "            \"chunk_text\": {\"type\": \"text\"},\n",
    "            \"chunk_title\": {\"type\": \"text\"},\n",
    "            \"keywords\": {\"type\": \"keyword\"},\n",
    "            \"video_id\": {\"type\": \"keyword\"},\n",
    "            \"chunk_id\": {\"type\": \"keyword\"}\n",
    "        }\n",
    "    }\n",
    "\n",
    "}   \n",
    "index_name = data[0][\"video_id\"].lower()\n",
    "\n",
    "# Delete the index if it exists\n",
    "if es_client.indices.exists(index=index_name):\n",
    "    es_client.indices.delete(index=index_name)\n",
    "    print(\"The index was deleted\")\n",
    "\n",
    "# Create the index\n",
    "es_client.indices.create(index=index_name, body=index_settings)\n",
    "print(\"The index was created\")\n"
   ]
  },
  {
   "cell_type": "code",
   "execution_count": 31,
   "id": "15ab3bdc",
   "metadata": {},
   "outputs": [
    {
     "data": {
      "text/plain": [
       "dict"
      ]
     },
     "execution_count": 31,
     "metadata": {},
     "output_type": "execute_result"
    }
   ],
   "source": [
    "type(data[0])"
   ]
  },
  {
   "cell_type": "code",
   "execution_count": 32,
   "id": "68bd1d4f",
   "metadata": {},
   "outputs": [
    {
     "data": {
      "application/vnd.jupyter.widget-view+json": {
       "model_id": "6142f59833ca4bae9238f6e4a0cafac2",
       "version_major": 2,
       "version_minor": 0
      },
      "text/plain": [
       "  0%|          | 0/84 [00:00<?, ?it/s]"
      ]
     },
     "metadata": {},
     "output_type": "display_data"
    }
   ],
   "source": [
    "if es_client.indices.exists(index=index_name):\n",
    "    es_client.delete_by_query(\n",
    "            index=index_name,\n",
    "            body={\"query\": {\"match_all\": {}}}\n",
    "        )\n",
    "for d in tqdm(data):\n",
    "   es_client.index( index=index_name,document=d)"
   ]
  },
  {
   "cell_type": "code",
   "execution_count": 37,
   "id": "fb54a5de",
   "metadata": {},
   "outputs": [],
   "source": [
    "def elastic_search(query):\n",
    "    search_query = {\n",
    "            \"size\": 5,\n",
    "            \"query\": {\n",
    "                \"bool\": {\n",
    "                    \"must\": {\n",
    "                        \"multi_match\": {\n",
    "                            \"query\": query,\n",
    "                            \"fields\": [\n",
    "                            \"chunk_text^2\",\n",
    "                            \"chunk_title^3\",\n",
    "                            \"keywords^5\"\n",
    "                            ],\n",
    "                            \"type\": \"best_fields\"\n",
    "                        }\n",
    "                    },\n",
    "           \n",
    "                }\n",
    "            }\n",
    "        }\n",
    "    response = es_client.search(index=index_name, body=search_query)\n",
    "    return response"
   ]
  },
  {
   "cell_type": "code",
   "execution_count": 38,
   "id": "63522ed5",
   "metadata": {},
   "outputs": [],
   "source": [
    "response = elastic_search(\"How does the text describe the balance between capitalism and socialism in China’s economy?\")"
   ]
  },
  {
   "cell_type": "code",
   "execution_count": null,
   "id": "de390e11",
   "metadata": {},
   "outputs": [
    {
     "data": {
      "text/plain": [
       "[{'_index': 'podcast0',\n",
       "  '_id': '7fBQlZkBeIc9tl9KkfSO',\n",
       "  '_score': 22.363451,\n",
       "  '_source': {'chunk_text': 'The following is a conversation with Keyu Jin, an economist at the London School of Economics, specializing in China\\'s economy, international macroeconomics, global trade imbalances, and financial policy. She wrote the highly lauded book on China titled \"The New China Playbook: Beyond Socialism and Capitalism,\" that details China\\'s economic transformation since 1978 to today. And it dispels a lot of misconceptions about China\\'s economy that people in the West have. This is the \"Lex Fridman Podcast.\" To support it, please check out our sponsors in the description and consider subscribing to this channel. And now, dear friends, here\\'s Keyu Jin.'}},\n",
       " {'_index': 'podcast0',\n",
       "  '_id': 'J_BQlZkBeIc9tl9Kk_Ux',\n",
       "  '_score': 21.500687,\n",
       "  '_source': {'chunk_text': 'So maybe can you speak to the difference, another difference is the long term multi-generational thinking that permeate Chinese culture. So how does that differ from the West, sort of the Western style capitalism of quarterly focused thinking?'}},\n",
       " {'_index': 'podcast0',\n",
       "  '_id': 'M_BQlZkBeIc9tl9Kk_V_',\n",
       "  '_score': 14.474961,\n",
       "  '_source': {'chunk_text': \"You think that's the natural consequence of capitalism almost always, that you become more individualized, you become lonelier, you feel lesser if you are not winning? And thereby somehow that breaks down society, community more and more? - I think it's a spectrum, right? And Europe is somewhere in between, I'd say. But Europe also is not as technologically and innovative as the US, but on a social level, there is more social protection for the people. There is a stronger sense of community, I'd argue.\"}},\n",
       " {'_index': 'podcast0',\n",
       "  '_id': 'ZfBQlZkBeIc9tl9KlPXf',\n",
       "  '_score': 14.100782,\n",
       "  '_source': {'chunk_text': \"So can you describe the DeepSeek moment and DeepSeek as it represents what China's thinking about in the space of AI? And does China have a chance at outrunning us in the AI race? DeepSeek was a surprise to the world, but I don't think it was that much of a surprise to the same degree to the Chinese. And remember that DeepSeek happened in times of crisis, urgency, not in times of comfort. A lot of these technological breakthroughs and leapfrogging happens in times of crisis. This is called crisis innovation.\"}},\n",
       " {'_index': 'podcast0',\n",
       "  '_id': 'mPBQlZkBeIc9tl9KlvU0',\n",
       "  '_score': 13.004139,\n",
       "  '_source': {'chunk_text': \"It relates to the puzzle, the housing puzzle. How is it possible that the Chinese youth can afford these really expensive real estate with their meager income? Well, one common thing is that they have six wallets, right? You and your spouse, together with the parents, and maybe even the grandparents would chip in. So there's this kind of intergenerational family dynamics that makes our models focused on the individual consumption just completely inappropriate to describe these dynamics. But the demographic side is the other challenge, which is they were so strict about the one child policy and they kept it in for too long, so that once they decide to loosen it and decided that fertility rates were way too low to sustain the Chinese economy and its future, it was already too late.\"}}]"
      ]
     },
     "execution_count": 59,
     "metadata": {},
     "output_type": "execute_result"
    }
   ],
   "source": [
    "response['hits']['hits']"
   ]
  }
 ],
 "metadata": {
  "kernelspec": {
   "display_name": "ask_youtube-lwAzMJkl",
   "language": "python",
   "name": "python3"
  },
  "language_info": {
   "codemirror_mode": {
    "name": "ipython",
    "version": 3
   },
   "file_extension": ".py",
   "mimetype": "text/x-python",
   "name": "python",
   "nbconvert_exporter": "python",
   "pygments_lexer": "ipython3",
   "version": "3.10.12"
  }
 },
 "nbformat": 4,
 "nbformat_minor": 5
}
